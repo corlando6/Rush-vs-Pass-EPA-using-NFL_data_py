{
 "cells": [
  {
   "cell_type": "code",
   "execution_count": 2,
   "metadata": {},
   "outputs": [],
   "source": [
    "import nfl_data_py as nfl\n",
    "import pandas as pd\n",
    "import numpy as np\n",
    "import os\n",
    "import urllib.request\n",
    "import matplotlib.pyplot as plt\n",
    "from matplotlib.offsetbox import OffsetImage, AnnotationBbox\n",
    "import seaborn as sns\n",
    "from adjustText import adjust_text"
   ]
  },
  {
   "cell_type": "code",
   "execution_count": 3,
   "metadata": {},
   "outputs": [
    {
     "data": {
      "text/plain": [
       "Index(['play_id', 'game_id', 'old_game_id', 'home_team', 'away_team',\n",
       "       'season_type', 'week', 'posteam', 'posteam_type', 'defteam',\n",
       "       ...\n",
       "       'out_of_bounds', 'home_opening_kickoff', 'qb_epa', 'xyac_epa',\n",
       "       'xyac_mean_yardage', 'xyac_median_yardage', 'xyac_success', 'xyac_fd',\n",
       "       'xpass', 'pass_oe'],\n",
       "      dtype='object', length=372)"
      ]
     },
     "execution_count": 3,
     "metadata": {},
     "output_type": "execute_result"
    }
   ],
   "source": [
    "# see columns\n",
    "nfl.see_pbp_cols()"
   ]
  },
  {
   "cell_type": "code",
   "execution_count": 4,
   "metadata": {},
   "outputs": [
    {
     "name": "stdout",
     "output_type": "stream",
     "text": [
      "2022 done.\n",
      "Downcasting floats.\n"
     ]
    },
    {
     "name": "stderr",
     "output_type": "stream",
     "text": [
      "C:\\Users\\corla\\AppData\\Local\\Packages\\PythonSoftwareFoundation.Python.3.10_qbz5n2kfra8p0\\LocalCache\\local-packages\\Python310\\site-packages\\nfl_data_py\\__init__.py:137: FutureWarning: In a future version, `df.iloc[:, i] = newvals` will attempt to set the values inplace instead of always setting a new array. To retain the old behavior, use either `df[df.columns[i]] = newvals` or, if columns are non-unique, `df.isetitem(i, newvals)`\n",
      "  plays.loc[:, cols] = plays.loc[:, cols].astype(numpy.float32)\n"
     ]
    }
   ],
   "source": [
    "# drop special teams plays\n",
    "pbp = nfl.import_pbp_data([2022])\n",
    "pbp_rp = pbp[(pbp['pass'] == 1) | (pbp['rush'] == 1)]\n",
    "pbp_rp = pbp_rp.dropna(subset=['epa', 'posteam', 'defteam'])\n",
    "# seeColls = pbp_rp.head()\n",
    "# seeColls.to_clipboard()"
   ]
  },
  {
   "cell_type": "code",
   "execution_count": 5,
   "metadata": {},
   "outputs": [
    {
     "data": {
      "text/html": [
       "<div>\n",
       "<style scoped>\n",
       "    .dataframe tbody tr th:only-of-type {\n",
       "        vertical-align: middle;\n",
       "    }\n",
       "\n",
       "    .dataframe tbody tr th {\n",
       "        vertical-align: top;\n",
       "    }\n",
       "\n",
       "    .dataframe thead th {\n",
       "        text-align: right;\n",
       "    }\n",
       "</style>\n",
       "<table border=\"1\" class=\"dataframe\">\n",
       "  <thead>\n",
       "    <tr style=\"text-align: right;\">\n",
       "      <th></th>\n",
       "      <th>posteam</th>\n",
       "      <th>pass_epa</th>\n",
       "    </tr>\n",
       "  </thead>\n",
       "  <tbody>\n",
       "    <tr>\n",
       "      <th>0</th>\n",
       "      <td>ARI</td>\n",
       "      <td>-0.079506</td>\n",
       "    </tr>\n",
       "    <tr>\n",
       "      <th>1</th>\n",
       "      <td>ATL</td>\n",
       "      <td>0.002979</td>\n",
       "    </tr>\n",
       "    <tr>\n",
       "      <th>2</th>\n",
       "      <td>BAL</td>\n",
       "      <td>-0.010278</td>\n",
       "    </tr>\n",
       "    <tr>\n",
       "      <th>3</th>\n",
       "      <td>BUF</td>\n",
       "      <td>0.162691</td>\n",
       "    </tr>\n",
       "    <tr>\n",
       "      <th>4</th>\n",
       "      <td>CAR</td>\n",
       "      <td>-0.063714</td>\n",
       "    </tr>\n",
       "  </tbody>\n",
       "</table>\n",
       "</div>"
      ],
      "text/plain": [
       "  posteam  pass_epa\n",
       "0     ARI -0.079506\n",
       "1     ATL  0.002979\n",
       "2     BAL -0.010278\n",
       "3     BUF  0.162691\n",
       "4     CAR -0.063714"
      ]
     },
     "execution_count": 5,
     "metadata": {},
     "output_type": "execute_result"
    }
   ],
   "source": [
    "# get pass epa stat df\n",
    "pass_epa = pbp_rp[(pbp_rp['pass'] == 1)].groupby('posteam')['epa'].mean().reset_index().rename(columns = {'epa' : 'pass_epa'})\n",
    "pass_epa.sort_values('pass_epa', ascending = False)\n",
    "pass_epa.head()"
   ]
  },
  {
   "cell_type": "code",
   "execution_count": 6,
   "metadata": {},
   "outputs": [
    {
     "data": {
      "text/html": [
       "<div>\n",
       "<style scoped>\n",
       "    .dataframe tbody tr th:only-of-type {\n",
       "        vertical-align: middle;\n",
       "    }\n",
       "\n",
       "    .dataframe tbody tr th {\n",
       "        vertical-align: top;\n",
       "    }\n",
       "\n",
       "    .dataframe thead th {\n",
       "        text-align: right;\n",
       "    }\n",
       "</style>\n",
       "<table border=\"1\" class=\"dataframe\">\n",
       "  <thead>\n",
       "    <tr style=\"text-align: right;\">\n",
       "      <th></th>\n",
       "      <th>posteam</th>\n",
       "      <th>pass_epa</th>\n",
       "      <th>rush_epa</th>\n",
       "    </tr>\n",
       "  </thead>\n",
       "  <tbody>\n",
       "    <tr>\n",
       "      <th>0</th>\n",
       "      <td>ARI</td>\n",
       "      <td>-0.079506</td>\n",
       "      <td>-0.079682</td>\n",
       "    </tr>\n",
       "    <tr>\n",
       "      <th>1</th>\n",
       "      <td>ATL</td>\n",
       "      <td>0.002979</td>\n",
       "      <td>0.006186</td>\n",
       "    </tr>\n",
       "    <tr>\n",
       "      <th>2</th>\n",
       "      <td>BAL</td>\n",
       "      <td>-0.010278</td>\n",
       "      <td>0.015354</td>\n",
       "    </tr>\n",
       "    <tr>\n",
       "      <th>3</th>\n",
       "      <td>BUF</td>\n",
       "      <td>0.162691</td>\n",
       "      <td>-0.052620</td>\n",
       "    </tr>\n",
       "    <tr>\n",
       "      <th>4</th>\n",
       "      <td>CAR</td>\n",
       "      <td>-0.063714</td>\n",
       "      <td>-0.006957</td>\n",
       "    </tr>\n",
       "  </tbody>\n",
       "</table>\n",
       "</div>"
      ],
      "text/plain": [
       "  posteam  pass_epa  rush_epa\n",
       "0     ARI -0.079506 -0.079682\n",
       "1     ATL  0.002979  0.006186\n",
       "2     BAL -0.010278  0.015354\n",
       "3     BUF  0.162691 -0.052620\n",
       "4     CAR -0.063714 -0.006957"
      ]
     },
     "execution_count": 6,
     "metadata": {},
     "output_type": "execute_result"
    }
   ],
   "source": [
    "# get rush EPA and merge columns\n",
    "rush_epa = pbp_rp[(pbp_rp['rush'] == 1)].groupby('posteam')['epa'].mean().reset_index().rename(columns = {'epa' : 'rush_epa'})\n",
    "epa = pd.merge(pass_epa, rush_epa, on = 'posteam')\n",
    "epa.head()"
   ]
  },
  {
   "cell_type": "code",
   "execution_count": 7,
   "metadata": {},
   "outputs": [
    {
     "data": {
      "text/html": [
       "<div>\n",
       "<style scoped>\n",
       "    .dataframe tbody tr th:only-of-type {\n",
       "        vertical-align: middle;\n",
       "    }\n",
       "\n",
       "    .dataframe tbody tr th {\n",
       "        vertical-align: top;\n",
       "    }\n",
       "\n",
       "    .dataframe thead th {\n",
       "        text-align: right;\n",
       "    }\n",
       "</style>\n",
       "<table border=\"1\" class=\"dataframe\">\n",
       "  <thead>\n",
       "    <tr style=\"text-align: right;\">\n",
       "      <th></th>\n",
       "      <th>team_abbr</th>\n",
       "      <th>team_logo_espn</th>\n",
       "    </tr>\n",
       "  </thead>\n",
       "  <tbody>\n",
       "    <tr>\n",
       "      <th>0</th>\n",
       "      <td>ARI</td>\n",
       "      <td>https://a.espncdn.com/i/teamlogos/nfl/500/ari.png</td>\n",
       "    </tr>\n",
       "    <tr>\n",
       "      <th>1</th>\n",
       "      <td>ATL</td>\n",
       "      <td>https://a.espncdn.com/i/teamlogos/nfl/500/atl.png</td>\n",
       "    </tr>\n",
       "    <tr>\n",
       "      <th>2</th>\n",
       "      <td>BAL</td>\n",
       "      <td>https://a.espncdn.com/i/teamlogos/nfl/500/bal.png</td>\n",
       "    </tr>\n",
       "    <tr>\n",
       "      <th>3</th>\n",
       "      <td>BUF</td>\n",
       "      <td>https://a.espncdn.com/i/teamlogos/nfl/500/buf.png</td>\n",
       "    </tr>\n",
       "    <tr>\n",
       "      <th>4</th>\n",
       "      <td>CAR</td>\n",
       "      <td>https://a.espncdn.com/i/teamlogos/nfl/500-dark...</td>\n",
       "    </tr>\n",
       "  </tbody>\n",
       "</table>\n",
       "</div>"
      ],
      "text/plain": [
       "  team_abbr                                     team_logo_espn\n",
       "0       ARI  https://a.espncdn.com/i/teamlogos/nfl/500/ari.png\n",
       "1       ATL  https://a.espncdn.com/i/teamlogos/nfl/500/atl.png\n",
       "2       BAL  https://a.espncdn.com/i/teamlogos/nfl/500/bal.png\n",
       "3       BUF  https://a.espncdn.com/i/teamlogos/nfl/500/buf.png\n",
       "4       CAR  https://a.espncdn.com/i/teamlogos/nfl/500-dark..."
      ]
     },
     "execution_count": 7,
     "metadata": {},
     "output_type": "execute_result"
    }
   ],
   "source": [
    "logos = nfl.import_team_desc()[['team_abbr', 'team_logo_espn']]\n",
    "logos.head()"
   ]
  },
  {
   "attachments": {},
   "cell_type": "markdown",
   "metadata": {},
   "source": [
    "Creating Logo Lists and their DFs"
   ]
  },
  {
   "cell_type": "code",
   "execution_count": 8,
   "metadata": {},
   "outputs": [
    {
     "data": {
      "text/html": [
       "<div>\n",
       "<style scoped>\n",
       "    .dataframe tbody tr th:only-of-type {\n",
       "        vertical-align: middle;\n",
       "    }\n",
       "\n",
       "    .dataframe tbody tr th {\n",
       "        vertical-align: top;\n",
       "    }\n",
       "\n",
       "    .dataframe thead th {\n",
       "        text-align: right;\n",
       "    }\n",
       "</style>\n",
       "<table border=\"1\" class=\"dataframe\">\n",
       "  <thead>\n",
       "    <tr style=\"text-align: right;\">\n",
       "      <th></th>\n",
       "      <th>posteam</th>\n",
       "      <th>pass_epa</th>\n",
       "      <th>rush_epa</th>\n",
       "      <th>team_abbr</th>\n",
       "      <th>logo_path</th>\n",
       "    </tr>\n",
       "  </thead>\n",
       "  <tbody>\n",
       "    <tr>\n",
       "      <th>0</th>\n",
       "      <td>ARI</td>\n",
       "      <td>-0.079506</td>\n",
       "      <td>-0.079682</td>\n",
       "      <td>ARI</td>\n",
       "      <td>logos/ARI.tif</td>\n",
       "    </tr>\n",
       "    <tr>\n",
       "      <th>1</th>\n",
       "      <td>ATL</td>\n",
       "      <td>0.002979</td>\n",
       "      <td>0.006186</td>\n",
       "      <td>ATL</td>\n",
       "      <td>logos/ATL.tif</td>\n",
       "    </tr>\n",
       "    <tr>\n",
       "      <th>2</th>\n",
       "      <td>BAL</td>\n",
       "      <td>-0.010278</td>\n",
       "      <td>0.015354</td>\n",
       "      <td>BAL</td>\n",
       "      <td>logos/BAL.tif</td>\n",
       "    </tr>\n",
       "    <tr>\n",
       "      <th>3</th>\n",
       "      <td>BUF</td>\n",
       "      <td>0.162691</td>\n",
       "      <td>-0.052620</td>\n",
       "      <td>BUF</td>\n",
       "      <td>logos/BUF.tif</td>\n",
       "    </tr>\n",
       "    <tr>\n",
       "      <th>4</th>\n",
       "      <td>CAR</td>\n",
       "      <td>-0.063714</td>\n",
       "      <td>-0.006957</td>\n",
       "      <td>CAR</td>\n",
       "      <td>logos/CAR.tif</td>\n",
       "    </tr>\n",
       "  </tbody>\n",
       "</table>\n",
       "</div>"
      ],
      "text/plain": [
       "  posteam  pass_epa  rush_epa team_abbr      logo_path\n",
       "0     ARI -0.079506 -0.079682       ARI  logos/ARI.tif\n",
       "1     ATL  0.002979  0.006186       ATL  logos/ATL.tif\n",
       "2     BAL -0.010278  0.015354       BAL  logos/BAL.tif\n",
       "3     BUF  0.162691 -0.052620       BUF  logos/BUF.tif\n",
       "4     CAR -0.063714 -0.006957       CAR  logos/CAR.tif"
      ]
     },
     "execution_count": 8,
     "metadata": {},
     "output_type": "execute_result"
    }
   ],
   "source": [
    "logo_paths = []\n",
    "team_abbr = []\n",
    "if not os.path.exists(\"logos\"):\n",
    "    os.makedirs(\"logos\")\n",
    "\n",
    "for team in range(len(logos)):\n",
    "    urllib.request.urlretrieve(logos['team_logo_espn'][team], f\"logos/{logos['team_abbr'][team]}.tif\")\n",
    "    logo_paths.append(f\"logos/{logos['team_abbr'][team]}.tif\")\n",
    "    team_abbr.append(logos['team_abbr'][team])\n",
    "\n",
    "data = {'team_abbr' : team_abbr, 'logo_path' : logo_paths}\n",
    "logo_data = pd.DataFrame(data)\n",
    "\n",
    "epa_with_logos = pd.merge(epa, logo_data, left_on = 'posteam', right_on = 'team_abbr')\n",
    "epa_with_logos.head()"
   ]
  },
  {
   "attachments": {},
   "cell_type": "markdown",
   "metadata": {},
   "source": [
    "Adding the Visualization"
   ]
  },
  {
   "cell_type": "code",
   "execution_count": 24,
   "metadata": {},
   "outputs": [
    {
     "data": {
      "text/plain": [
       "Text(0.8, 0.005, 'Data: nflfastR')"
      ]
     },
     "execution_count": 24,
     "metadata": {},
     "output_type": "execute_result"
    },
    {
     "data": {
      "image/png": "[encoded data removed]",
      "text/plain": [
       "<Figure size 1080x720 with 1 Axes>"
      ]
     },
     "metadata": {
      "needs_background": "light"
     },
     "output_type": "display_data"
    }
   ],
   "source": [
    "# Define a function for getting the image path and loading it into the visualization\n",
    "def getImage(path):\n",
    "    return OffsetImage(plt.imread(path, format=\"tif\"), zoom=.1)\n",
    "\n",
    "# Define plot size and autolayout\n",
    "plt.rcParams[\"figure.figsize\"] = [15, 10]\n",
    "plt.rcParams[\"figure.autolayout\"] = True\n",
    "\n",
    "# Define the x and y variables\n",
    "x = epa_with_logos['pass_epa']\n",
    "y = epa_with_logos['rush_epa']\n",
    "\n",
    "# Define the image paths\n",
    "paths = epa_with_logos['logo_path']\n",
    "\n",
    "# Define the plot\n",
    "fig, ax = plt.subplots()\n",
    "\n",
    "#Add grid\n",
    "ax.grid(zorder=0,alpha=.4)\n",
    "ax.set_axisbelow(True)\n",
    "\n",
    "# Load the data into the plot\n",
    "for x0, y0, path in zip(x, y, paths):\n",
    "   ab = AnnotationBbox(getImage(path), (x0, y0), frameon=False)\n",
    "   ax.add_artist(ab)\n",
    "\n",
    "# Plot parameters\n",
    "plt.xlim(-0.3, 0.3);\n",
    "plt.ylim(-0.3, 0.3);\n",
    "plt.title(\"2022 NFL Season - Pass EPA vs. Rush EPA\", fontdict={'fontsize':28});\n",
    "plt.xlabel(\"Pass EPA\", fontdict={'fontsize':24});\n",
    "plt.ylabel(\"Rush EPA\", fontdict={'fontsize':24});\n",
    "plt.figtext(0.8, 0.005,'Data: nflfastR',fontsize=15)"
   ]
  }
 ],
 "metadata": {
  "kernelspec": {
   "display_name": "Python 3",
   "language": "python",
   "name": "python3"
  },
  "language_info": {
   "codemirror_mode": {
    "name": "ipython",
    "version": 3
   },
   "file_extension": ".py",
   "mimetype": "text/x-python",
   "name": "python",
   "nbconvert_exporter": "python",
   "pygments_lexer": "ipython3",
   "version": "3.10.11"
  },
  "orig_nbformat": 4
 },
 "nbformat": 4,
 "nbformat_minor": 2
}
